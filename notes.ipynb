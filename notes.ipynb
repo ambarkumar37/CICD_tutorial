{
 "cells": [
  {
   "cell_type": "markdown",
   "id": "7c88181f",
   "metadata": {},
   "source": [
    "Step-by-step breakdown:\n",
    "- Workflow Trigger (on section)\n",
    "- This workflow runs when:\n",
    "- You push changes to the main branch.\n",
    "- A pull request is created for main, staging, or patch.\n",
    "- Define a Job (jobs section)\n",
    "- The workflow runs one job called test on an Ubuntu machine.\n",
    "- Step 1: Checkout the Code (checkout@v2)\n",
    "- It downloads your repository's files into the virtual machine so GitHub Actions can work with them.\n",
    "- Step 2: Set Up Python (setup-python@v2)\n",
    "- It installs Python (version 3.8 in this case) so scripts can run.\n",
    "- Step 3: Install Dependencies (pip install)\n",
    "- It updates pip (the package manager) and installs all required libraries listed in requirements.txt.\n",
    "- Step 4: Run Tests (pytest)\n",
    "- It executes the test cases using pytest, ensuring the code functions as expected.\n",
    "\n",
    "Why this matters:\n",
    "This automation saves time by handling repetitive tasks like setup and testing—no need to manually run tests every time you make a change! 🚀\n",
    "Let me know if you want me to tweak anything.\n"
   ]
  },
  {
   "cell_type": "markdown",
   "id": "4f0dca63",
   "metadata": {},
   "source": [
    "Not necessarily! If you just run pytest without specifying a folder, it will automatically search the entire project directory for test files.\n",
    "By default, pytest looks for:\n",
    "- Files named test_*.py or *_test.py anywhere in the project.\n",
    "- A folder called tests/, if it exists.\n",
    "So, if you have a folder named tests/, pytest will likely find it and run the tests inside. However, if your tests are inside rtest/, it won't find them unless you specify:\n",
    "pytest rtest/\n",
    "\n",
    "\n",
    "Let me know if you need to adjust your workflow to point to a specific test folder! 🚀\n"
   ]
  },
  {
   "cell_type": "markdown",
   "id": "13e7124d",
   "metadata": {},
   "source": []
  }
 ],
 "metadata": {
  "language_info": {
   "name": "python"
  }
 },
 "nbformat": 4,
 "nbformat_minor": 5
}
